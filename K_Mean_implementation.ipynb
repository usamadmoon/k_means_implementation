{
  "nbformat": 4,
  "nbformat_minor": 0,
  "metadata": {
    "colab": {
      "name": "K-Mean implementation.ipynb",
      "provenance": [],
      "collapsed_sections": []
    },
    "kernelspec": {
      "name": "python3",
      "display_name": "Python 3"
    }
  },
  "cells": [
    {
      "metadata": {
        "id": "0VhwsUgt-h4K"
      },
      "cell_type": "markdown",
      "source": [
        "**Importing Libraries**\n",
        "\n",
        "\n",
        "1.   Pandas just to manipulate arrays/lists\n",
        "2.   pyplot to plot graphs for visualization\n",
        "3.   sklearn; to import iris datasets\n",
        "4.   random; to generate initial random centroids"
      ]
    },
    {
      "metadata": {
        "id": "lOPT_gFTTZOH"
      },
      "cell_type": "code",
      "source": [
        "import pandas as pd\n",
        "from matplotlib import pyplot as plt\n",
        "from sklearn import datasets\n",
        "import random"
      ],
      "execution_count": null,
      "outputs": []
    },
    {
      "metadata": {
        "id": "wMa0yOAlUWUi",
        "outputId": "4249d57d-5e7f-4235-def4-743e2c4298e0",
        "colab": {
          "base_uri": "https://localhost:8080/",
          "height": 35
        }
      },
      "cell_type": "code",
      "source": [
        "iris = datasets.load_iris()\n",
        "x = pd.DataFrame(iris.data)\n",
        "data = iris.data\n",
        "len(data[0])"
      ],
      "execution_count": null,
      "outputs": [
        {
          "output_type": "execute_result",
          "data": {
            "text/plain": [
              "4"
            ]
          },
          "metadata": {
            "tags": []
          },
          "execution_count": 3
        }
      ]
    },
    {
      "metadata": {
        "id": "jlknwUhlBtjD",
        "outputId": "882b6236-2e8b-4afb-8f84-4d9604527cf5",
        "colab": {
          "base_uri": "https://localhost:8080/",
          "height": 2617
        }
      },
      "cell_type": "code",
      "source": [
        "data"
      ],
      "execution_count": null,
      "outputs": [
        {
          "output_type": "execute_result",
          "data": {
            "text/plain": [
              "array([[5.1, 3.5, 1.4, 0.2],\n",
              "       [4.9, 3. , 1.4, 0.2],\n",
              "       [4.7, 3.2, 1.3, 0.2],\n",
              "       [4.6, 3.1, 1.5, 0.2],\n",
              "       [5. , 3.6, 1.4, 0.2],\n",
              "       [5.4, 3.9, 1.7, 0.4],\n",
              "       [4.6, 3.4, 1.4, 0.3],\n",
              "       [5. , 3.4, 1.5, 0.2],\n",
              "       [4.4, 2.9, 1.4, 0.2],\n",
              "       [4.9, 3.1, 1.5, 0.1],\n",
              "       [5.4, 3.7, 1.5, 0.2],\n",
              "       [4.8, 3.4, 1.6, 0.2],\n",
              "       [4.8, 3. , 1.4, 0.1],\n",
              "       [4.3, 3. , 1.1, 0.1],\n",
              "       [5.8, 4. , 1.2, 0.2],\n",
              "       [5.7, 4.4, 1.5, 0.4],\n",
              "       [5.4, 3.9, 1.3, 0.4],\n",
              "       [5.1, 3.5, 1.4, 0.3],\n",
              "       [5.7, 3.8, 1.7, 0.3],\n",
              "       [5.1, 3.8, 1.5, 0.3],\n",
              "       [5.4, 3.4, 1.7, 0.2],\n",
              "       [5.1, 3.7, 1.5, 0.4],\n",
              "       [4.6, 3.6, 1. , 0.2],\n",
              "       [5.1, 3.3, 1.7, 0.5],\n",
              "       [4.8, 3.4, 1.9, 0.2],\n",
              "       [5. , 3. , 1.6, 0.2],\n",
              "       [5. , 3.4, 1.6, 0.4],\n",
              "       [5.2, 3.5, 1.5, 0.2],\n",
              "       [5.2, 3.4, 1.4, 0.2],\n",
              "       [4.7, 3.2, 1.6, 0.2],\n",
              "       [4.8, 3.1, 1.6, 0.2],\n",
              "       [5.4, 3.4, 1.5, 0.4],\n",
              "       [5.2, 4.1, 1.5, 0.1],\n",
              "       [5.5, 4.2, 1.4, 0.2],\n",
              "       [4.9, 3.1, 1.5, 0.2],\n",
              "       [5. , 3.2, 1.2, 0.2],\n",
              "       [5.5, 3.5, 1.3, 0.2],\n",
              "       [4.9, 3.6, 1.4, 0.1],\n",
              "       [4.4, 3. , 1.3, 0.2],\n",
              "       [5.1, 3.4, 1.5, 0.2],\n",
              "       [5. , 3.5, 1.3, 0.3],\n",
              "       [4.5, 2.3, 1.3, 0.3],\n",
              "       [4.4, 3.2, 1.3, 0.2],\n",
              "       [5. , 3.5, 1.6, 0.6],\n",
              "       [5.1, 3.8, 1.9, 0.4],\n",
              "       [4.8, 3. , 1.4, 0.3],\n",
              "       [5.1, 3.8, 1.6, 0.2],\n",
              "       [4.6, 3.2, 1.4, 0.2],\n",
              "       [5.3, 3.7, 1.5, 0.2],\n",
              "       [5. , 3.3, 1.4, 0.2],\n",
              "       [7. , 3.2, 4.7, 1.4],\n",
              "       [6.4, 3.2, 4.5, 1.5],\n",
              "       [6.9, 3.1, 4.9, 1.5],\n",
              "       [5.5, 2.3, 4. , 1.3],\n",
              "       [6.5, 2.8, 4.6, 1.5],\n",
              "       [5.7, 2.8, 4.5, 1.3],\n",
              "       [6.3, 3.3, 4.7, 1.6],\n",
              "       [4.9, 2.4, 3.3, 1. ],\n",
              "       [6.6, 2.9, 4.6, 1.3],\n",
              "       [5.2, 2.7, 3.9, 1.4],\n",
              "       [5. , 2. , 3.5, 1. ],\n",
              "       [5.9, 3. , 4.2, 1.5],\n",
              "       [6. , 2.2, 4. , 1. ],\n",
              "       [6.1, 2.9, 4.7, 1.4],\n",
              "       [5.6, 2.9, 3.6, 1.3],\n",
              "       [6.7, 3.1, 4.4, 1.4],\n",
              "       [5.6, 3. , 4.5, 1.5],\n",
              "       [5.8, 2.7, 4.1, 1. ],\n",
              "       [6.2, 2.2, 4.5, 1.5],\n",
              "       [5.6, 2.5, 3.9, 1.1],\n",
              "       [5.9, 3.2, 4.8, 1.8],\n",
              "       [6.1, 2.8, 4. , 1.3],\n",
              "       [6.3, 2.5, 4.9, 1.5],\n",
              "       [6.1, 2.8, 4.7, 1.2],\n",
              "       [6.4, 2.9, 4.3, 1.3],\n",
              "       [6.6, 3. , 4.4, 1.4],\n",
              "       [6.8, 2.8, 4.8, 1.4],\n",
              "       [6.7, 3. , 5. , 1.7],\n",
              "       [6. , 2.9, 4.5, 1.5],\n",
              "       [5.7, 2.6, 3.5, 1. ],\n",
              "       [5.5, 2.4, 3.8, 1.1],\n",
              "       [5.5, 2.4, 3.7, 1. ],\n",
              "       [5.8, 2.7, 3.9, 1.2],\n",
              "       [6. , 2.7, 5.1, 1.6],\n",
              "       [5.4, 3. , 4.5, 1.5],\n",
              "       [6. , 3.4, 4.5, 1.6],\n",
              "       [6.7, 3.1, 4.7, 1.5],\n",
              "       [6.3, 2.3, 4.4, 1.3],\n",
              "       [5.6, 3. , 4.1, 1.3],\n",
              "       [5.5, 2.5, 4. , 1.3],\n",
              "       [5.5, 2.6, 4.4, 1.2],\n",
              "       [6.1, 3. , 4.6, 1.4],\n",
              "       [5.8, 2.6, 4. , 1.2],\n",
              "       [5. , 2.3, 3.3, 1. ],\n",
              "       [5.6, 2.7, 4.2, 1.3],\n",
              "       [5.7, 3. , 4.2, 1.2],\n",
              "       [5.7, 2.9, 4.2, 1.3],\n",
              "       [6.2, 2.9, 4.3, 1.3],\n",
              "       [5.1, 2.5, 3. , 1.1],\n",
              "       [5.7, 2.8, 4.1, 1.3],\n",
              "       [6.3, 3.3, 6. , 2.5],\n",
              "       [5.8, 2.7, 5.1, 1.9],\n",
              "       [7.1, 3. , 5.9, 2.1],\n",
              "       [6.3, 2.9, 5.6, 1.8],\n",
              "       [6.5, 3. , 5.8, 2.2],\n",
              "       [7.6, 3. , 6.6, 2.1],\n",
              "       [4.9, 2.5, 4.5, 1.7],\n",
              "       [7.3, 2.9, 6.3, 1.8],\n",
              "       [6.7, 2.5, 5.8, 1.8],\n",
              "       [7.2, 3.6, 6.1, 2.5],\n",
              "       [6.5, 3.2, 5.1, 2. ],\n",
              "       [6.4, 2.7, 5.3, 1.9],\n",
              "       [6.8, 3. , 5.5, 2.1],\n",
              "       [5.7, 2.5, 5. , 2. ],\n",
              "       [5.8, 2.8, 5.1, 2.4],\n",
              "       [6.4, 3.2, 5.3, 2.3],\n",
              "       [6.5, 3. , 5.5, 1.8],\n",
              "       [7.7, 3.8, 6.7, 2.2],\n",
              "       [7.7, 2.6, 6.9, 2.3],\n",
              "       [6. , 2.2, 5. , 1.5],\n",
              "       [6.9, 3.2, 5.7, 2.3],\n",
              "       [5.6, 2.8, 4.9, 2. ],\n",
              "       [7.7, 2.8, 6.7, 2. ],\n",
              "       [6.3, 2.7, 4.9, 1.8],\n",
              "       [6.7, 3.3, 5.7, 2.1],\n",
              "       [7.2, 3.2, 6. , 1.8],\n",
              "       [6.2, 2.8, 4.8, 1.8],\n",
              "       [6.1, 3. , 4.9, 1.8],\n",
              "       [6.4, 2.8, 5.6, 2.1],\n",
              "       [7.2, 3. , 5.8, 1.6],\n",
              "       [7.4, 2.8, 6.1, 1.9],\n",
              "       [7.9, 3.8, 6.4, 2. ],\n",
              "       [6.4, 2.8, 5.6, 2.2],\n",
              "       [6.3, 2.8, 5.1, 1.5],\n",
              "       [6.1, 2.6, 5.6, 1.4],\n",
              "       [7.7, 3. , 6.1, 2.3],\n",
              "       [6.3, 3.4, 5.6, 2.4],\n",
              "       [6.4, 3.1, 5.5, 1.8],\n",
              "       [6. , 3. , 4.8, 1.8],\n",
              "       [6.9, 3.1, 5.4, 2.1],\n",
              "       [6.7, 3.1, 5.6, 2.4],\n",
              "       [6.9, 3.1, 5.1, 2.3],\n",
              "       [5.8, 2.7, 5.1, 1.9],\n",
              "       [6.8, 3.2, 5.9, 2.3],\n",
              "       [6.7, 3.3, 5.7, 2.5],\n",
              "       [6.7, 3. , 5.2, 2.3],\n",
              "       [6.3, 2.5, 5. , 1.9],\n",
              "       [6.5, 3. , 5.2, 2. ],\n",
              "       [6.2, 3.4, 5.4, 2.3],\n",
              "       [5.9, 3. , 5.1, 1.8]])"
            ]
          },
          "metadata": {
            "tags": []
          },
          "execution_count": 4
        }
      ]
    },
    {
      "metadata": {
        "id": "wUvMpJfQUdvb"
      },
      "cell_type": "code",
      "source": [
        "x.columns = ['sLength', 'sWidth', 'pLength', 'pWidth']"
      ],
      "execution_count": null,
      "outputs": []
    },
    {
      "metadata": {
        "id": "wqCOlwF0X_8L"
      },
      "cell_type": "code",
      "source": [
        "def generateCentroid():\n",
        "  c = list()\n",
        "  c.append(random.uniform(min(x['sLength'].values), max(x['sLength'].values)))\n",
        "  c.append(random.uniform(min(x['sWidth'].values), max(x['sWidth'].values)))\n",
        "  return c"
      ],
      "execution_count": null,
      "outputs": []
    },
    {
      "metadata": {
        "id": "g-5pH5xquPKQ",
        "outputId": "2c4eaae6-7196-4d25-d6a5-825f348fea9c",
        "colab": {
          "base_uri": "https://localhost:8080/",
          "height": 69
        }
      },
      "cell_type": "code",
      "source": [
        "init_c1 = generateCentroid()\n",
        "init_c2 = generateCentroid()\n",
        "init_c3 = generateCentroid()\n",
        "\n",
        "print(init_c1)\n",
        "print(init_c2)\n",
        "print(init_c3)"
      ],
      "execution_count": null,
      "outputs": [
        {
          "output_type": "stream",
          "text": [
            "[6.571656937031062, 3.7199023164912637]\n",
            "[6.638063839544617, 4.151484868235361]\n",
            "[6.510909032538487, 2.307042475731122]\n"
          ],
          "name": "stdout"
        }
      ]
    },
    {
      "metadata": {
        "id": "GkS69WmGZcxe",
        "outputId": "5226a6b2-168e-440f-8898-e167da28dd51",
        "colab": {
          "base_uri": "https://localhost:8080/",
          "height": 365
        }
      },
      "cell_type": "code",
      "source": [
        "plt.scatter(x['sLength'].values, x['sWidth'].values, c='#FF0000', s=50)\n",
        "plt.scatter(init_c1[0], init_c1[1], marker='*', s=100, c='#000000')\n",
        "plt.scatter(init_c2[0], init_c2[1], marker='*', s=100, c='#000000')\n",
        "plt.scatter(init_c3[0], init_c3[1], marker='*', s=100, c='#000000')"
      ],
      "execution_count": null,
      "outputs": [
        {
          "output_type": "execute_result",
          "data": {
            "text/plain": [
              "<matplotlib.collections.PathCollection at 0x7f77e9b66c18>"
            ]
          },
          "metadata": {
            "tags": []
          },
          "execution_count": 11
        },
        {
          "output_type": "display_data",
          "data": {
            "image/png": "[encoded data removed]",
            "text/plain": [
              "<matplotlib.figure.Figure at 0x7f77e9bc50b8>"
            ]
          },
          "metadata": {
            "tags": []
          }
        }
      ]
    },
    {
      "metadata": {
        "id": "0hObza9ranx7"
      },
      "cell_type": "code",
      "source": [
        "def dist(a, b):\n",
        "  distance =(((a[0]-b[0])**2)+((a[1]-b[1])**2)+((a[2]-b[2])**2)+((a[3]-b[3])**2))\n",
        "  return distance"
      ],
      "execution_count": null,
      "outputs": []
    },
    {
      "metadata": {
        "id": "Zd-MrJwnCZae"
      },
      "cell_type": "code",
      "source": [
        "def dist2d(a, b):\n",
        "  distance =(((a[0]-b[0])**2)+((a[1]-b[1])**2))\n",
        "  return distance"
      ],
      "execution_count": null,
      "outputs": []
    },
    {
      "metadata": {
        "id": "IFWE73I8ZURQ"
      },
      "cell_type": "code",
      "source": [
        "def diff(a, b):\n",
        "  distance =((a[0]-b[0])**2)\n",
        "  return distance"
      ],
      "execution_count": null,
      "outputs": []
    },
    {
      "metadata": {
        "id": "KP8AeU8RazwN"
      },
      "cell_type": "code",
      "source": [
        "def getnewCentroid(cluster):\n",
        "  c = list()\n",
        "  c = [sum(x) for x in zip(*cluster)]\n",
        "  c = [x / len(cluster) for x in c]\n",
        "  return c"
      ],
      "execution_count": null,
      "outputs": []
    },
    {
      "metadata": {
        "id": "TNU4WVN2YG-_",
        "outputId": "75a3916f-7479-4531-dc86-16cc6a60b9a6",
        "colab": {
          "base_uri": "https://localhost:8080/",
          "height": 34
        }
      },
      "cell_type": "code",
      "source": [
        "data[0][:2]"
      ],
      "execution_count": null,
      "outputs": [
        {
          "output_type": "execute_result",
          "data": {
            "text/plain": [
              "array([5.1, 3.5])"
            ]
          },
          "metadata": {
            "tags": []
          },
          "execution_count": 12
        }
      ]
    },
    {
      "metadata": {
        "id": "oWxwMNi_ajmt"
      },
      "cell_type": "code",
      "source": [
        "c1 = init_c1\n",
        "c2 = init_c2\n",
        "c3 = init_c3\n",
        "\n",
        "Oldc1 = [0,0]\n",
        "Oldc2 = [0,0]\n",
        "Oldc3 = [0,0]\n",
        "\n",
        "cluster1 = list()\n",
        "cluster2 = list()\n",
        "cluster3 = list()\n",
        "counter = 0\n",
        "while(Oldc1 != c1 and Oldc2 != c2 and Oldc3 != c3):\n",
        "  counter = counter + 1\n",
        "  Oldc1 = list(c1)\n",
        "  Oldc2 = list(c2)\n",
        "  Oldc3 = list(c3)\n",
        "  cluster1 = list()\n",
        "  cluster2 = list()\n",
        "  cluster3 = list()\n",
        "  for i in range(len(data)-1):\n",
        "    dist1 = dist2d(c1, data[i][:2])\n",
        "    dist2 = dist2d(c2, data[i][:2])\n",
        "    dist3 = dist2d(c3, data[i][:2])\n",
        "    if dist1<dist2 and dist1<dist3:\n",
        "      cluster1.append(data[i][:2])\n",
        "    elif dist2<dist1 and dist2<dist3:\n",
        "      cluster2.append(data[i][:2])\n",
        "    elif dist3<dist2 and dist3<dist1:\n",
        "      cluster3.append(data[i][:2])\n",
        "      \n",
        "  c1 = list()\n",
        "  c2 = list()\n",
        "  c3 = list()\n",
        "  \n",
        "  c1 = list(getnewCentroid(cluster1))\n",
        "  c2 = list(getnewCentroid(cluster2))\n",
        "  c3 = list(getnewCentroid(cluster3))\n"
      ],
      "execution_count": null,
      "outputs": []
    },
    {
      "metadata": {
        "id": "EgNczBtV3Tbw"
      },
      "cell_type": "code",
      "source": [
        "data1 = pd.DataFrame(cluster1)\n",
        "data2 = pd.DataFrame(cluster2)\n",
        "data3 = pd.DataFrame(cluster3)\n",
        "\n",
        "data1.columns = ['sLength', 'sWidth']\n",
        "data2.columns = ['sLength', 'sWidth']\n",
        "data3.columns = ['sLength', 'sWidth']"
      ],
      "execution_count": null,
      "outputs": []
    },
    {
      "metadata": {
        "id": "0QYe5etu2-UR",
        "outputId": "caeed662-645b-4503-f4ec-83e01d969d1f",
        "colab": {
          "base_uri": "https://localhost:8080/",
          "height": 365
        }
      },
      "cell_type": "code",
      "source": [
        "plt.scatter(data1['sLength'].values, data1['sWidth'].values, c='#52AB31', s=50)\n",
        "plt.scatter(data2['sLength'].values, data2['sWidth'].values, c='#FF1C1C', s=50)\n",
        "plt.scatter(data3['sLength'].values, data3['sWidth'].values, c='#2C1CFF', s=50)\n",
        "plt.scatter(c1[0], c1[1], marker='*', s=100, c='#000000')\n",
        "plt.scatter(c2[0], c2[1], marker='*', s=100, c='#000000')\n",
        "plt.scatter(c3[0], c3[1], marker='*', s=100, c='#000000')"
      ],
      "execution_count": null,
      "outputs": [
        {
          "output_type": "execute_result",
          "data": {
            "text/plain": [
              "<matplotlib.collections.PathCollection at 0x7f77ec927dd8>"
            ]
          },
          "metadata": {
            "tags": []
          },
          "execution_count": 16
        },
        {
          "output_type": "display_data",
          "data": {
            "image/png": "[encoded data removed]",
            "text/plain": [
              "<matplotlib.figure.Figure at 0x7f77e9b66ef0>"
            ]
          },
          "metadata": {
            "tags": []
          }
        }
      ]
    },
    {
      "metadata": {
        "id": "NVe0mRDiYtjC",
        "outputId": "73542fcf-5938-43ba-dd42-c1d84bd8b70c",
        "colab": {
          "base_uri": "https://localhost:8080/",
          "height": 35
        }
      },
      "cell_type": "code",
      "source": [
        "counter"
      ],
      "execution_count": null,
      "outputs": [
        {
          "output_type": "execute_result",
          "data": {
            "text/plain": [
              "5"
            ]
          },
          "metadata": {
            "tags": []
          },
          "execution_count": 17
        }
      ]
    }
  ]
}